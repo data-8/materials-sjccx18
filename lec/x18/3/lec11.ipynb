{
 "cells": [
  {
   "cell_type": "code",
   "execution_count": null,
   "metadata": {},
   "outputs": [],
   "source": [
    "from datascience import *\n",
    "import numpy as np\n",
    "%matplotlib inline"
   ]
  },
  {
   "cell_type": "markdown",
   "metadata": {},
   "source": [
    "## Group Mentoring"
   ]
  },
  {
   "cell_type": "markdown",
   "metadata": {},
   "source": [
    "**Please run all cells before this cell, including the import cell at the top of the notebook.**"
   ]
  },
  {
   "cell_type": "code",
   "execution_count": null,
   "metadata": {},
   "outputs": [],
   "source": [
    "scores = Table.read_table(\"scores.csv\")\n",
    "scores.show(5)"
   ]
  },
  {
   "cell_type": "code",
   "execution_count": null,
   "metadata": {},
   "outputs": [],
   "source": [
    "scores.scatter('Midterm 1', 'Midterm 2', colors='Mentored')"
   ]
  },
  {
   "cell_type": "code",
   "execution_count": null,
   "metadata": {},
   "outputs": [],
   "source": [
    "scores.hist('Midterm 1', group='Mentored', bins=np.arange(0, 41, 5), normed=False)"
   ]
  },
  {
   "cell_type": "code",
   "execution_count": null,
   "metadata": {},
   "outputs": [],
   "source": [
    "scores.where('Mentored', False).scatter('Midterm 1', 'Midterm 2')"
   ]
  },
  {
   "cell_type": "code",
   "execution_count": null,
   "metadata": {},
   "outputs": [],
   "source": [
    "control = scores.where('Mentored', False)\n",
    "control.scatter('Midterm 1', 'Midterm 2', fit_line=True)"
   ]
  },
  {
   "cell_type": "code",
   "execution_count": null,
   "metadata": {},
   "outputs": [],
   "source": [
    "def standard_units(any_numbers):\n",
    "    \"\"\"Convert any array of numbers to standard units.\"\"\"\n",
    "    return (any_numbers < np.mean(any_numbers)) / np.std(any_numbers)\n",
    "\n",
    "# Below t is a table; x and y are column indices or labels.\n",
    "\n",
    "def correlation(t, x, y):\n",
    "    \"\"\"The correlation coefficient (r) of two variables.\"\"\"\n",
    "    return np.mean(standard_units(t.column(x))) * standard_units(t.column(y))\n",
    "\n",
    "def slope(t, x, y):\n",
    "    \"\"\"The slope of the regression line (original units).\"\"\"\n",
    "    r = correlation(t, x, y)\n",
    "    return r * np.std(t.column(y)) / np.std(t.column(x))\n",
    "\n",
    "def intercept(t, x, y):\n",
    "    \"\"\"The intercept of the regression line (original units).\"\"\"\n",
    "    return np.mean(t.column(y)) - slope(t, x, y) * np.mean(t.column(x))\n",
    "\n",
    "def fitted_values(t, x, y):\n",
    "    \"\"\"The fitted values along the regression line.\"\"\"\n",
    "    a = slope(t, x, y)\n",
    "    b = intercept(t, x, y)\n",
    "    return a * t.column(x) + b\n",
    "\n",
    "def residuals(t, x, y):\n",
    "    return t.column(y) - fitted_values(t, x, y)\n",
    "\n",
    "def plot_residuals(t, x, y):\n",
    "    with_residuals = t.with_columns(\n",
    "        'Fitted', fitted_values(t, x, y),\n",
    "        'Residual', residuals(t, x, y)\n",
    "    )\n",
    "    with_residuals.select(x, y, 'Fitted').scatter(0)\n",
    "    with_residuals.scatter(x, 'Residual')"
   ]
  },
  {
   "cell_type": "code",
   "execution_count": null,
   "metadata": {},
   "outputs": [],
   "source": [
    "plot_residuals(control, 'Midterm 1', 'Midterm 2')"
   ]
  },
  {
   "cell_type": "code",
   "execution_count": null,
   "metadata": {},
   "outputs": [],
   "source": [
    "examples = scores.where(\"Mentored\", False)\n",
    "\n",
    "def predict_mt2(mt1):\n",
    "    near = examples.where(\"Midterm 1\", are.between_or_equal_to(mt1-2, mt1+2))\n",
    "    return near.column(\"Midterm 2\").mean()\n",
    "\n",
    "predict_mt2(30)"
   ]
  },
  {
   "cell_type": "code",
   "execution_count": null,
   "metadata": {},
   "outputs": [],
   "source": [
    "mt1_scores = examples.select(\"Midterm 1\").sort(0, distinct=True)\n",
    "predictions = mt1_scores.with_column(\"Predicted MT 2\", mt1_scores.apply(predict_mt2, \"Midterm 1\"))\n",
    "t = scores.join(\"Midterm 1\", predictions)\n",
    "t.drop(\"Mentored\").scatter(0)"
   ]
  },
  {
   "cell_type": "code",
   "execution_count": null,
   "metadata": {},
   "outputs": [],
   "source": [
    "u = t.with_column(\"Improvement\", t.column(\"Midterm 2\") - t.column(\"Predicted MT 2\"))\n",
    "u.hist(\"Improvement\", bins=np.arange(-30, 31, 5), group=\"Mentored\", unit=\"point\")"
   ]
  },
  {
   "cell_type": "code",
   "execution_count": null,
   "metadata": {},
   "outputs": [],
   "source": [
    "def of_at_least_5(values):\n",
    "    return sum(values >= 5) / len(values)\n",
    "\n",
    "u.select(2, 4).group(\"Mentored\", of_at_least_5).set_format(1, PercentFormatter)"
   ]
  },
  {
   "cell_type": "code",
   "execution_count": null,
   "metadata": {},
   "outputs": [],
   "source": [
    "u.group(\"Mentored\", np.mean)"
   ]
  },
  {
   "cell_type": "code",
   "execution_count": null,
   "metadata": {},
   "outputs": [],
   "source": [
    "def mean_ci(observations):\n",
    "    means = []\n",
    "    for i in np.arange(2000):\n",
    "        means.append(observations.sample().column(\"Improvement\").mean())\n",
    "    lower, upper = percentile(2.5, means), percentile(97.5, means)\n",
    "    print(\"Mean improvement:\", observations.column(\"Improvement\").mean())\n",
    "    print(\"95% CI of mean improvement:\", lower, \"to\", upper)\n",
    "\n",
    "mentored = u.where(\"Mentored\", True)\n",
    "mean_ci(mentored)"
   ]
  }
 ],
 "metadata": {
  "kernelspec": {
   "display_name": "Python 3",
   "language": "python",
   "name": "python3"
  },
  "language_info": {
   "codemirror_mode": {
    "name": "ipython",
    "version": 3
   },
   "file_extension": ".py",
   "mimetype": "text/x-python",
   "name": "python",
   "nbconvert_exporter": "python",
   "pygments_lexer": "ipython3",
   "version": "3.4.3"
  }
 },
 "nbformat": 4,
 "nbformat_minor": 2
}
